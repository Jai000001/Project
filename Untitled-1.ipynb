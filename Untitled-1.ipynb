{
 "cells": [
  {
   "cell_type": "code",
   "execution_count": 26,
   "metadata": {},
   "outputs": [],
   "source": [
    "import pandas as pd\n",
    "import numpy as np"
   ]
  },
  {
   "cell_type": "code",
   "execution_count": 27,
   "metadata": {},
   "outputs": [
    {
     "data": {
      "text/html": [
       "<div>\n",
       "<style scoped>\n",
       "    .dataframe tbody tr th:only-of-type {\n",
       "        vertical-align: middle;\n",
       "    }\n",
       "\n",
       "    .dataframe tbody tr th {\n",
       "        vertical-align: top;\n",
       "    }\n",
       "\n",
       "    .dataframe thead th {\n",
       "        text-align: right;\n",
       "    }\n",
       "</style>\n",
       "<table border=\"1\" class=\"dataframe\">\n",
       "  <thead>\n",
       "    <tr style=\"text-align: right;\">\n",
       "      <th></th>\n",
       "      <th>Unnamed: 0</th>\n",
       "      <th>Unnamed: 1</th>\n",
       "      <th>NULL</th>\n",
       "      <th>NULL.1</th>\n",
       "      <th>Unnamed: 4</th>\n",
       "      <th>NULL.2</th>\n",
       "      <th>Unnamed: 6</th>\n",
       "      <th>NULL.3</th>\n",
       "      <th>NULL.4</th>\n",
       "      <th>NULL.5</th>\n",
       "      <th>NULL.6</th>\n",
       "      <th>NULL.7</th>\n",
       "    </tr>\n",
       "  </thead>\n",
       "  <tbody>\n",
       "    <tr>\n",
       "      <th>0</th>\n",
       "      <td>NaN</td>\n",
       "      <td>NaN</td>\n",
       "      <td>NaN</td>\n",
       "      <td>Alloy Steel</td>\n",
       "      <td>NaN</td>\n",
       "      <td>NaN</td>\n",
       "      <td>NaN</td>\n",
       "      <td>NaN</td>\n",
       "      <td>NaN</td>\n",
       "      <td>NaN</td>\n",
       "      <td>NaN</td>\n",
       "      <td>NaN</td>\n",
       "    </tr>\n",
       "    <tr>\n",
       "      <th>1</th>\n",
       "      <td>NaN</td>\n",
       "      <td>NaN</td>\n",
       "      <td>NaN</td>\n",
       "      <td>Aluminum</td>\n",
       "      <td>NaN</td>\n",
       "      <td>NaN</td>\n",
       "      <td>NaN</td>\n",
       "      <td>NaN</td>\n",
       "      <td>NaN</td>\n",
       "      <td>NaN</td>\n",
       "      <td>NaN</td>\n",
       "      <td>NaN</td>\n",
       "    </tr>\n",
       "    <tr>\n",
       "      <th>2</th>\n",
       "      <td>NaN</td>\n",
       "      <td>NaN</td>\n",
       "      <td>3D Printing / FDM</td>\n",
       "      <td>ABS-Like</td>\n",
       "      <td>NaN</td>\n",
       "      <td>NaN</td>\n",
       "      <td>NaN</td>\n",
       "      <td>NaN</td>\n",
       "      <td>NaN</td>\n",
       "      <td>NaN</td>\n",
       "      <td>NaN</td>\n",
       "      <td>NaN</td>\n",
       "    </tr>\n",
       "    <tr>\n",
       "      <th>3</th>\n",
       "      <td>NaN</td>\n",
       "      <td>NaN</td>\n",
       "      <td>3D Printing / FDM</td>\n",
       "      <td>Thermoplastic</td>\n",
       "      <td>NaN</td>\n",
       "      <td>NaN</td>\n",
       "      <td>NaN</td>\n",
       "      <td>NaN</td>\n",
       "      <td>NaN</td>\n",
       "      <td>NaN</td>\n",
       "      <td>NaN</td>\n",
       "      <td>NaN</td>\n",
       "    </tr>\n",
       "    <tr>\n",
       "      <th>4</th>\n",
       "      <td>NaN</td>\n",
       "      <td>NaN</td>\n",
       "      <td>Blow Molding</td>\n",
       "      <td>Other/Misc</td>\n",
       "      <td>NaN</td>\n",
       "      <td>NaN</td>\n",
       "      <td>NaN</td>\n",
       "      <td>NaN</td>\n",
       "      <td>NaN</td>\n",
       "      <td>NaN</td>\n",
       "      <td>NaN</td>\n",
       "      <td>NaN</td>\n",
       "    </tr>\n",
       "    <tr>\n",
       "      <th>...</th>\n",
       "      <td>...</td>\n",
       "      <td>...</td>\n",
       "      <td>...</td>\n",
       "      <td>...</td>\n",
       "      <td>...</td>\n",
       "      <td>...</td>\n",
       "      <td>...</td>\n",
       "      <td>...</td>\n",
       "      <td>...</td>\n",
       "      <td>...</td>\n",
       "      <td>...</td>\n",
       "      <td>...</td>\n",
       "    </tr>\n",
       "    <tr>\n",
       "      <th>86592</th>\n",
       "      <td>餐桌</td>\n",
       "      <td>1491468779354</td>\n",
       "      <td>Woodworking</td>\n",
       "      <td>Wood</td>\n",
       "      <td>NaN</td>\n",
       "      <td>NaN</td>\n",
       "      <td>NaN</td>\n",
       "      <td>0.0000</td>\n",
       "      <td>0.000</td>\n",
       "      <td>0.0</td>\n",
       "      <td>0.0</td>\n",
       "      <td>0.0</td>\n",
       "    </tr>\n",
       "    <tr>\n",
       "      <th>86593</th>\n",
       "      <td>餐桌</td>\n",
       "      <td>1491469171400</td>\n",
       "      <td>Woodworking</td>\n",
       "      <td>Wood</td>\n",
       "      <td>NaN</td>\n",
       "      <td>NaN</td>\n",
       "      <td>NaN</td>\n",
       "      <td>0.0000</td>\n",
       "      <td>0.000</td>\n",
       "      <td>0.0</td>\n",
       "      <td>0.0</td>\n",
       "      <td>0.0</td>\n",
       "    </tr>\n",
       "    <tr>\n",
       "      <th>86594</th>\n",
       "      <td>高硼硅钢化玻璃罩</td>\n",
       "      <td>1479968647037</td>\n",
       "      <td>Contact an Engineer</td>\n",
       "      <td>NaN</td>\n",
       "      <td>NaN</td>\n",
       "      <td>NaN</td>\n",
       "      <td>NaN</td>\n",
       "      <td>0.0000</td>\n",
       "      <td>0.000</td>\n",
       "      <td>0.0</td>\n",
       "      <td>0.0</td>\n",
       "      <td>0.0</td>\n",
       "    </tr>\n",
       "    <tr>\n",
       "      <th>86595</th>\n",
       "      <td>鬆緊轉軸</td>\n",
       "      <td>1467774123060</td>\n",
       "      <td>Injection Molding</td>\n",
       "      <td>Thermoplastic</td>\n",
       "      <td>prismatic</td>\n",
       "      <td>NaN</td>\n",
       "      <td>small</td>\n",
       "      <td>52.7366</td>\n",
       "      <td>132.484</td>\n",
       "      <td>25.0</td>\n",
       "      <td>0.0</td>\n",
       "      <td>0.0</td>\n",
       "    </tr>\n",
       "    <tr>\n",
       "      <th>86596</th>\n",
       "      <td>齿轮</td>\n",
       "      <td>09</td>\n",
       "      <td>Contact an Engineer</td>\n",
       "      <td>NaN</td>\n",
       "      <td>NaN</td>\n",
       "      <td>NaN</td>\n",
       "      <td>NaN</td>\n",
       "      <td>0.0000</td>\n",
       "      <td>0.000</td>\n",
       "      <td>0.0</td>\n",
       "      <td>0.0</td>\n",
       "      <td>0.0</td>\n",
       "    </tr>\n",
       "  </tbody>\n",
       "</table>\n",
       "<p>86597 rows × 12 columns</p>\n",
       "</div>"
      ],
      "text/plain": [
       "      Unnamed: 0     Unnamed: 1                 NULL         NULL.1  \\\n",
       "0            NaN            NaN                  NaN    Alloy Steel   \n",
       "1            NaN            NaN                  NaN       Aluminum   \n",
       "2            NaN            NaN    3D Printing / FDM       ABS-Like   \n",
       "3            NaN            NaN    3D Printing / FDM  Thermoplastic   \n",
       "4            NaN            NaN         Blow Molding     Other/Misc   \n",
       "...          ...            ...                  ...            ...   \n",
       "86592         餐桌  1491468779354          Woodworking           Wood   \n",
       "86593         餐桌  1491469171400          Woodworking           Wood   \n",
       "86594   高硼硅钢化玻璃罩  1479968647037  Contact an Engineer            NaN   \n",
       "86595       鬆緊轉軸  1467774123060    Injection Molding  Thermoplastic   \n",
       "86596         齿轮             09  Contact an Engineer            NaN   \n",
       "\n",
       "      Unnamed: 4 NULL.2 Unnamed: 6   NULL.3   NULL.4  NULL.5  NULL.6  NULL.7  \n",
       "0            NaN    NaN        NaN      NaN      NaN     NaN     NaN     NaN  \n",
       "1            NaN    NaN        NaN      NaN      NaN     NaN     NaN     NaN  \n",
       "2            NaN    NaN        NaN      NaN      NaN     NaN     NaN     NaN  \n",
       "3            NaN    NaN        NaN      NaN      NaN     NaN     NaN     NaN  \n",
       "4            NaN    NaN        NaN      NaN      NaN     NaN     NaN     NaN  \n",
       "...          ...    ...        ...      ...      ...     ...     ...     ...  \n",
       "86592        NaN    NaN        NaN   0.0000    0.000     0.0     0.0     0.0  \n",
       "86593        NaN    NaN        NaN   0.0000    0.000     0.0     0.0     0.0  \n",
       "86594        NaN    NaN        NaN   0.0000    0.000     0.0     0.0     0.0  \n",
       "86595  prismatic    NaN      small  52.7366  132.484    25.0     0.0     0.0  \n",
       "86596        NaN    NaN        NaN   0.0000    0.000     0.0     0.0     0.0  \n",
       "\n",
       "[86597 rows x 12 columns]"
      ]
     },
     "execution_count": 27,
     "metadata": {},
     "output_type": "execute_result"
    }
   ],
   "source": [
    "df= pd.read_csv(\"parts.csv\")\n",
    "df"
   ]
  },
  {
   "cell_type": "code",
   "execution_count": 28,
   "metadata": {},
   "outputs": [],
   "source": [
    "df=df.iloc[:,:5]"
   ]
  },
  {
   "cell_type": "code",
   "execution_count": 29,
   "metadata": {},
   "outputs": [
    {
     "data": {
      "text/html": [
       "<div>\n",
       "<style scoped>\n",
       "    .dataframe tbody tr th:only-of-type {\n",
       "        vertical-align: middle;\n",
       "    }\n",
       "\n",
       "    .dataframe tbody tr th {\n",
       "        vertical-align: top;\n",
       "    }\n",
       "\n",
       "    .dataframe thead th {\n",
       "        text-align: right;\n",
       "    }\n",
       "</style>\n",
       "<table border=\"1\" class=\"dataframe\">\n",
       "  <thead>\n",
       "    <tr style=\"text-align: right;\">\n",
       "      <th></th>\n",
       "      <th>Name</th>\n",
       "      <th>id</th>\n",
       "      <th>NULL</th>\n",
       "      <th>NULL.1</th>\n",
       "      <th>Unnamed: 4</th>\n",
       "    </tr>\n",
       "  </thead>\n",
       "  <tbody>\n",
       "    <tr>\n",
       "      <th>0</th>\n",
       "      <td>NaN</td>\n",
       "      <td>NaN</td>\n",
       "      <td>NaN</td>\n",
       "      <td>Alloy Steel</td>\n",
       "      <td>NaN</td>\n",
       "    </tr>\n",
       "    <tr>\n",
       "      <th>1</th>\n",
       "      <td>NaN</td>\n",
       "      <td>NaN</td>\n",
       "      <td>NaN</td>\n",
       "      <td>Aluminum</td>\n",
       "      <td>NaN</td>\n",
       "    </tr>\n",
       "    <tr>\n",
       "      <th>2</th>\n",
       "      <td>NaN</td>\n",
       "      <td>NaN</td>\n",
       "      <td>3D Printing / FDM</td>\n",
       "      <td>ABS-Like</td>\n",
       "      <td>NaN</td>\n",
       "    </tr>\n",
       "    <tr>\n",
       "      <th>3</th>\n",
       "      <td>NaN</td>\n",
       "      <td>NaN</td>\n",
       "      <td>3D Printing / FDM</td>\n",
       "      <td>Thermoplastic</td>\n",
       "      <td>NaN</td>\n",
       "    </tr>\n",
       "    <tr>\n",
       "      <th>4</th>\n",
       "      <td>NaN</td>\n",
       "      <td>NaN</td>\n",
       "      <td>Blow Molding</td>\n",
       "      <td>Other/Misc</td>\n",
       "      <td>NaN</td>\n",
       "    </tr>\n",
       "    <tr>\n",
       "      <th>...</th>\n",
       "      <td>...</td>\n",
       "      <td>...</td>\n",
       "      <td>...</td>\n",
       "      <td>...</td>\n",
       "      <td>...</td>\n",
       "    </tr>\n",
       "    <tr>\n",
       "      <th>86592</th>\n",
       "      <td>餐桌</td>\n",
       "      <td>1491468779354</td>\n",
       "      <td>Woodworking</td>\n",
       "      <td>Wood</td>\n",
       "      <td>NaN</td>\n",
       "    </tr>\n",
       "    <tr>\n",
       "      <th>86593</th>\n",
       "      <td>餐桌</td>\n",
       "      <td>1491469171400</td>\n",
       "      <td>Woodworking</td>\n",
       "      <td>Wood</td>\n",
       "      <td>NaN</td>\n",
       "    </tr>\n",
       "    <tr>\n",
       "      <th>86594</th>\n",
       "      <td>高硼硅钢化玻璃罩</td>\n",
       "      <td>1479968647037</td>\n",
       "      <td>Contact an Engineer</td>\n",
       "      <td>NaN</td>\n",
       "      <td>NaN</td>\n",
       "    </tr>\n",
       "    <tr>\n",
       "      <th>86595</th>\n",
       "      <td>鬆緊轉軸</td>\n",
       "      <td>1467774123060</td>\n",
       "      <td>Injection Molding</td>\n",
       "      <td>Thermoplastic</td>\n",
       "      <td>prismatic</td>\n",
       "    </tr>\n",
       "    <tr>\n",
       "      <th>86596</th>\n",
       "      <td>齿轮</td>\n",
       "      <td>09</td>\n",
       "      <td>Contact an Engineer</td>\n",
       "      <td>NaN</td>\n",
       "      <td>NaN</td>\n",
       "    </tr>\n",
       "  </tbody>\n",
       "</table>\n",
       "<p>86597 rows × 5 columns</p>\n",
       "</div>"
      ],
      "text/plain": [
       "           Name             id                 NULL         NULL.1 Unnamed: 4\n",
       "0           NaN            NaN                  NaN    Alloy Steel        NaN\n",
       "1           NaN            NaN                  NaN       Aluminum        NaN\n",
       "2           NaN            NaN    3D Printing / FDM       ABS-Like        NaN\n",
       "3           NaN            NaN    3D Printing / FDM  Thermoplastic        NaN\n",
       "4           NaN            NaN         Blow Molding     Other/Misc        NaN\n",
       "...         ...            ...                  ...            ...        ...\n",
       "86592        餐桌  1491468779354          Woodworking           Wood        NaN\n",
       "86593        餐桌  1491469171400          Woodworking           Wood        NaN\n",
       "86594  高硼硅钢化玻璃罩  1479968647037  Contact an Engineer            NaN        NaN\n",
       "86595      鬆緊轉軸  1467774123060    Injection Molding  Thermoplastic  prismatic\n",
       "86596        齿轮             09  Contact an Engineer            NaN        NaN\n",
       "\n",
       "[86597 rows x 5 columns]"
      ]
     },
     "execution_count": 29,
     "metadata": {},
     "output_type": "execute_result"
    }
   ],
   "source": [
    "df.rename(columns={'Unnamed: 0':'Name','Unnamed: 1':'id'}, inplace=True)\n",
    "df"
   ]
  },
  {
   "cell_type": "code",
   "execution_count": 30,
   "metadata": {},
   "outputs": [
    {
     "data": {
      "text/html": [
       "<div>\n",
       "<style scoped>\n",
       "    .dataframe tbody tr th:only-of-type {\n",
       "        vertical-align: middle;\n",
       "    }\n",
       "\n",
       "    .dataframe tbody tr th {\n",
       "        vertical-align: top;\n",
       "    }\n",
       "\n",
       "    .dataframe thead th {\n",
       "        text-align: right;\n",
       "    }\n",
       "</style>\n",
       "<table border=\"1\" class=\"dataframe\">\n",
       "  <thead>\n",
       "    <tr style=\"text-align: right;\">\n",
       "      <th></th>\n",
       "      <th>Name</th>\n",
       "      <th>id</th>\n",
       "      <th>NULL</th>\n",
       "      <th>NULL.1</th>\n",
       "      <th>Unnamed: 4</th>\n",
       "    </tr>\n",
       "  </thead>\n",
       "  <tbody>\n",
       "    <tr>\n",
       "      <th>count</th>\n",
       "      <td>86525</td>\n",
       "      <td>86066</td>\n",
       "      <td>76426</td>\n",
       "      <td>74283</td>\n",
       "      <td>67567</td>\n",
       "    </tr>\n",
       "    <tr>\n",
       "      <th>unique</th>\n",
       "      <td>66266</td>\n",
       "      <td>64659</td>\n",
       "      <td>260</td>\n",
       "      <td>38</td>\n",
       "      <td>2</td>\n",
       "    </tr>\n",
       "    <tr>\n",
       "      <th>top</th>\n",
       "      <td>Base</td>\n",
       "      <td>1</td>\n",
       "      <td>Machining / Milling &amp; Turning</td>\n",
       "      <td>Aluminum</td>\n",
       "      <td>prismatic</td>\n",
       "    </tr>\n",
       "    <tr>\n",
       "      <th>freq</th>\n",
       "      <td>142</td>\n",
       "      <td>2684</td>\n",
       "      <td>22582</td>\n",
       "      <td>21934</td>\n",
       "      <td>40163</td>\n",
       "    </tr>\n",
       "  </tbody>\n",
       "</table>\n",
       "</div>"
      ],
      "text/plain": [
       "         Name     id                           NULL    NULL.1 Unnamed: 4\n",
       "count   86525  86066                          76426     74283      67567\n",
       "unique  66266  64659                            260        38          2\n",
       "top      Base      1  Machining / Milling & Turning  Aluminum  prismatic\n",
       "freq      142   2684                          22582     21934      40163"
      ]
     },
     "execution_count": 30,
     "metadata": {},
     "output_type": "execute_result"
    }
   ],
   "source": [
    "df.describe()"
   ]
  },
  {
   "cell_type": "code",
   "execution_count": 31,
   "metadata": {},
   "outputs": [],
   "source": [
    "df.dropna(axis=0,inplace=True,how='any', subset=['Name'])\n",
    "df.reset_index(inplace=True, drop=True)\n",
    "df=df.head(20000)"
   ]
  },
  {
   "cell_type": "code",
   "execution_count": 32,
   "metadata": {},
   "outputs": [
    {
     "data": {
      "text/plain": [
       "Name             0\n",
       "id              98\n",
       "NULL          2238\n",
       "NULL.1        2830\n",
       "Unnamed: 4    4089\n",
       "dtype: int64"
      ]
     },
     "execution_count": 32,
     "metadata": {},
     "output_type": "execute_result"
    }
   ],
   "source": [
    "df.isna().sum()"
   ]
  },
  {
   "cell_type": "code",
   "execution_count": 33,
   "metadata": {},
   "outputs": [
    {
     "name": "stderr",
     "output_type": "stream",
     "text": [
      "C:\\Users\\Jainesh.Singh\\AppData\\Local\\Temp\\ipykernel_8484\\2705865781.py:2: SettingWithCopyWarning: \n",
      "A value is trying to be set on a copy of a slice from a DataFrame\n",
      "\n",
      "See the caveats in the documentation: https://pandas.pydata.org/pandas-docs/stable/user_guide/indexing.html#returning-a-view-versus-a-copy\n",
      "  df.replace(reg, '', regex=True, inplace=True)\n"
     ]
    }
   ],
   "source": [
    "reg=r'[_!@#$%^&*\"-\\/]'\n",
    "df.replace(reg, '', regex=True, inplace=True)"
   ]
  },
  {
   "cell_type": "code",
   "execution_count": 34,
   "metadata": {},
   "outputs": [
    {
     "name": "stderr",
     "output_type": "stream",
     "text": [
      "C:\\Users\\Jainesh.Singh\\AppData\\Local\\Temp\\ipykernel_8484\\4063634158.py:3: SettingWithCopyWarning: \n",
      "A value is trying to be set on a copy of a slice from a DataFrame\n",
      "\n",
      "See the caveats in the documentation: https://pandas.pydata.org/pandas-docs/stable/user_guide/indexing.html#returning-a-view-versus-a-copy\n",
      "  df.Name[i]=df.Name[i]\n",
      "C:\\Users\\Jainesh.Singh\\AppData\\Local\\Temp\\ipykernel_8484\\4063634158.py:5: SettingWithCopyWarning: \n",
      "A value is trying to be set on a copy of a slice from a DataFrame\n",
      "\n",
      "See the caveats in the documentation: https://pandas.pydata.org/pandas-docs/stable/user_guide/indexing.html#returning-a-view-versus-a-copy\n",
      "  df.Name[i]=str(df.Name[i])+\" \"+ str(df.id[i])\n"
     ]
    }
   ],
   "source": [
    "for i in  range(20000):\n",
    "    if (df.Name[i]==df.id[i]):\n",
    "        df.Name[i]=df.Name[i]\n",
    "    else:\n",
    "        df.Name[i]=str(df.Name[i])+\" \"+ str(df.id[i])"
   ]
  },
  {
   "cell_type": "code",
   "execution_count": 35,
   "metadata": {},
   "outputs": [
    {
     "data": {
      "text/html": [
       "<div>\n",
       "<style scoped>\n",
       "    .dataframe tbody tr th:only-of-type {\n",
       "        vertical-align: middle;\n",
       "    }\n",
       "\n",
       "    .dataframe tbody tr th {\n",
       "        vertical-align: top;\n",
       "    }\n",
       "\n",
       "    .dataframe thead th {\n",
       "        text-align: right;\n",
       "    }\n",
       "</style>\n",
       "<table border=\"1\" class=\"dataframe\">\n",
       "  <thead>\n",
       "    <tr style=\"text-align: right;\">\n",
       "      <th></th>\n",
       "      <th>Name</th>\n",
       "      <th>id</th>\n",
       "      <th>NULL</th>\n",
       "      <th>NULL.1</th>\n",
       "      <th>Unnamed: 4</th>\n",
       "    </tr>\n",
       "  </thead>\n",
       "  <tbody>\n",
       "    <tr>\n",
       "      <th>0</th>\n",
       "      <td>1509005501A</td>\n",
       "      <td>1509005501A</td>\n",
       "      <td>Stamping</td>\n",
       "      <td>Carbon Steel</td>\n",
       "      <td>cylindrical</td>\n",
       "    </tr>\n",
       "    <tr>\n",
       "      <th>1</th>\n",
       "      <td>2x4DINRailEnclosure</td>\n",
       "      <td>2x4DINRailEnclosure</td>\n",
       "      <td>Fabrication  Welding</td>\n",
       "      <td>Carbon Steel</td>\n",
       "      <td>prismatic</td>\n",
       "    </tr>\n",
       "    <tr>\n",
       "      <th>2</th>\n",
       "      <td>2000000206  step  2000000206</td>\n",
       "      <td>2000000206</td>\n",
       "      <td>NaN</td>\n",
       "      <td>NaN</td>\n",
       "      <td>prismatic</td>\n",
       "    </tr>\n",
       "    <tr>\n",
       "      <th>3</th>\n",
       "      <td>3 or Custom Gutter System Inquiry cp6</td>\n",
       "      <td>cp6</td>\n",
       "      <td>Engineering  Design Services</td>\n",
       "      <td>Alloy Steel</td>\n",
       "      <td>NaN</td>\n",
       "    </tr>\n",
       "    <tr>\n",
       "      <th>4</th>\n",
       "      <td>3 or Custom Gutter System Inquiry cp6</td>\n",
       "      <td>cp6</td>\n",
       "      <td>Engineering  Design Services</td>\n",
       "      <td>Aluminum</td>\n",
       "      <td>NaN</td>\n",
       "    </tr>\n",
       "    <tr>\n",
       "      <th>...</th>\n",
       "      <td>...</td>\n",
       "      <td>...</td>\n",
       "      <td>...</td>\n",
       "      <td>...</td>\n",
       "      <td>...</td>\n",
       "    </tr>\n",
       "    <tr>\n",
       "      <th>19995</th>\n",
       "      <td>Billet Upright NP0110057</td>\n",
       "      <td>NP0110057</td>\n",
       "      <td>Machining  CNC Machining</td>\n",
       "      <td>Aluminum</td>\n",
       "      <td>prismatic</td>\n",
       "    </tr>\n",
       "    <tr>\n",
       "      <th>19996</th>\n",
       "      <td>Bin Dividers Wood Cutting 1432057253101</td>\n",
       "      <td>1432057253101</td>\n",
       "      <td>Woodworking</td>\n",
       "      <td>Wood</td>\n",
       "      <td>prismatic</td>\n",
       "    </tr>\n",
       "    <tr>\n",
       "      <th>19997</th>\n",
       "      <td>Binder Boss ADM2020AC006 Rev H</td>\n",
       "      <td>ADM2020AC006 Rev H</td>\n",
       "      <td>Machining  CNC Machining</td>\n",
       "      <td>Alloy Steel</td>\n",
       "      <td>cylindrical</td>\n",
       "    </tr>\n",
       "    <tr>\n",
       "      <th>19998</th>\n",
       "      <td>Binding v2 B02</td>\n",
       "      <td>B02</td>\n",
       "      <td>3D Printing  Other 3D Printing</td>\n",
       "      <td>Thermoplastic</td>\n",
       "      <td>NaN</td>\n",
       "    </tr>\n",
       "    <tr>\n",
       "      <th>19999</th>\n",
       "      <td>Bins DMS1002</td>\n",
       "      <td>DMS1002</td>\n",
       "      <td>3D Printing  Other 3D Printing</td>\n",
       "      <td>ABSLike</td>\n",
       "      <td>prismatic</td>\n",
       "    </tr>\n",
       "  </tbody>\n",
       "</table>\n",
       "<p>20000 rows × 5 columns</p>\n",
       "</div>"
      ],
      "text/plain": [
       "                                          Name                    id  \\\n",
       "0                                  1509005501A           1509005501A   \n",
       "1                          2x4DINRailEnclosure   2x4DINRailEnclosure   \n",
       "2                 2000000206  step  2000000206            2000000206   \n",
       "3        3 or Custom Gutter System Inquiry cp6                   cp6   \n",
       "4        3 or Custom Gutter System Inquiry cp6                   cp6   \n",
       "...                                        ...                   ...   \n",
       "19995                 Billet Upright NP0110057             NP0110057   \n",
       "19996  Bin Dividers Wood Cutting 1432057253101         1432057253101   \n",
       "19997           Binder Boss ADM2020AC006 Rev H    ADM2020AC006 Rev H   \n",
       "19998                           Binding v2 B02                   B02   \n",
       "19999                             Bins DMS1002               DMS1002   \n",
       "\n",
       "                                 NULL         NULL.1   Unnamed: 4  \n",
       "0                            Stamping   Carbon Steel  cylindrical  \n",
       "1                Fabrication  Welding   Carbon Steel    prismatic  \n",
       "2                                 NaN            NaN    prismatic  \n",
       "3        Engineering  Design Services    Alloy Steel          NaN  \n",
       "4        Engineering  Design Services       Aluminum          NaN  \n",
       "...                               ...            ...          ...  \n",
       "19995        Machining  CNC Machining       Aluminum    prismatic  \n",
       "19996                     Woodworking           Wood    prismatic  \n",
       "19997        Machining  CNC Machining    Alloy Steel  cylindrical  \n",
       "19998  3D Printing  Other 3D Printing  Thermoplastic          NaN  \n",
       "19999  3D Printing  Other 3D Printing        ABSLike    prismatic  \n",
       "\n",
       "[20000 rows x 5 columns]"
      ]
     },
     "execution_count": 35,
     "metadata": {},
     "output_type": "execute_result"
    }
   ],
   "source": [
    "df"
   ]
  },
  {
   "cell_type": "code",
   "execution_count": 36,
   "metadata": {},
   "outputs": [
    {
     "name": "stderr",
     "output_type": "stream",
     "text": [
      "C:\\Users\\Jainesh.Singh\\AppData\\Local\\Temp\\ipykernel_8484\\2435897239.py:1: SettingWithCopyWarning: \n",
      "A value is trying to be set on a copy of a slice from a DataFrame.\n",
      "Try using .loc[row_indexer,col_indexer] = value instead\n",
      "\n",
      "See the caveats in the documentation: https://pandas.pydata.org/pandas-docs/stable/user_guide/indexing.html#returning-a-view-versus-a-copy\n",
      "  df['combined']=df['Name']+' '+df['NULL'].fillna('')+' '+df['NULL.1'].fillna('')+' '+df['Unnamed: 4'].fillna('')\n"
     ]
    }
   ],
   "source": [
    "df['combined']=df['Name']+' '+df['NULL'].fillna('')+' '+df['NULL.1'].fillna('')+' '+df['Unnamed: 4'].fillna('')"
   ]
  },
  {
   "cell_type": "code",
   "execution_count": 37,
   "metadata": {},
   "outputs": [
    {
     "data": {
      "text/plain": [
       "' baseplate 54290 Machining  Milling Aluminum prismatic'"
      ]
     },
     "execution_count": 37,
     "metadata": {},
     "output_type": "execute_result"
    }
   ],
   "source": [
    "df.combined[10]"
   ]
  },
  {
   "cell_type": "code",
   "execution_count": 39,
   "metadata": {},
   "outputs": [],
   "source": [
    "import spacy"
   ]
  },
  {
   "cell_type": "code",
   "execution_count": null,
   "metadata": {},
   "outputs": [],
   "source": [
    "nlp= spacy.load('en_core_web_md')"
   ]
  },
  {
   "cell_type": "code",
   "execution_count": null,
   "metadata": {},
   "outputs": [],
   "source": [
    "for i in range(2000):\n",
    "    df.combined[i]=nlp(df.combined[i])"
   ]
  },
  {
   "cell_type": "code",
   "execution_count": null,
   "metadata": {},
   "outputs": [],
   "source": [
    "df.combined"
   ]
  },
  {
   "cell_type": "code",
   "execution_count": null,
   "metadata": {},
   "outputs": [],
   "source": [
    "for token in df.combined[50]:\n",
    "    print(token.vector)\n",
    "    print(token.vector.shape)"
   ]
  },
  {
   "cell_type": "code",
   "execution_count": null,
   "metadata": {},
   "outputs": [],
   "source": [
    "df['vector']=df['combined'].apply(lambda x: x.vector)"
   ]
  },
  {
   "cell_type": "code",
   "execution_count": null,
   "metadata": {},
   "outputs": [],
   "source": [
    "df.vector.values"
   ]
  },
  {
   "cell_type": "code",
   "execution_count": null,
   "metadata": {},
   "outputs": [],
   "source": [
    "X=np.stack(df.vector)\n",
    "    "
   ]
  },
  {
   "cell_type": "code",
   "execution_count": null,
   "metadata": {},
   "outputs": [],
   "source": [
    "X.shape"
   ]
  },
  {
   "cell_type": "code",
   "execution_count": null,
   "metadata": {},
   "outputs": [],
   "source": [
    "from sklearn.cluster import KMeans"
   ]
  },
  {
   "cell_type": "code",
   "execution_count": null,
   "metadata": {},
   "outputs": [],
   "source": [
    "model=KMeans(n_clusters=250)"
   ]
  },
  {
   "cell_type": "code",
   "execution_count": null,
   "metadata": {},
   "outputs": [],
   "source": [
    "model.fit(X)"
   ]
  },
  {
   "cell_type": "code",
   "execution_count": null,
   "metadata": {},
   "outputs": [],
   "source": [
    "model.labels_"
   ]
  },
  {
   "cell_type": "code",
   "execution_count": null,
   "metadata": {},
   "outputs": [],
   "source": [
    "df['labels']=model.labels_"
   ]
  },
  {
   "cell_type": "code",
   "execution_count": null,
   "metadata": {},
   "outputs": [],
   "source": [
    "df.combined.head(40),df.labels.head(40)"
   ]
  },
  {
   "cell_type": "code",
   "execution_count": null,
   "metadata": {},
   "outputs": [],
   "source": [
    "df.to_csv(\"result.csv\",index=False)"
   ]
  },
  {
   "cell_type": "code",
   "execution_count": null,
   "metadata": {},
   "outputs": [],
   "source": []
  }
 ],
 "metadata": {
  "kernelspec": {
   "display_name": "openai-env",
   "language": "python",
   "name": "python3"
  },
  "language_info": {
   "codemirror_mode": {
    "name": "ipython",
    "version": 3
   },
   "file_extension": ".py",
   "mimetype": "text/x-python",
   "name": "python",
   "nbconvert_exporter": "python",
   "pygments_lexer": "ipython3",
   "version": "3.11.7"
  }
 },
 "nbformat": 4,
 "nbformat_minor": 2
}
